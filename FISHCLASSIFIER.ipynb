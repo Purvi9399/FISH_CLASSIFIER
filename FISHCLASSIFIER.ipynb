{
  "nbformat": 4,
  "nbformat_minor": 0,
  "metadata": {
    "colab": {
      "name": "FISHCLASSIFIER",
      "provenance": [],
      "authorship_tag": "ABX9TyNQFEfSejztfkhrd7jzzcFK",
      "include_colab_link": true
    },
    "kernelspec": {
      "name": "python3",
      "display_name": "Python 3"
    }
  },
  "cells": [
    {
      "cell_type": "markdown",
      "metadata": {
        "id": "view-in-github",
        "colab_type": "text"
      },
      "source": [
        "<a href=\"https://colab.research.google.com/github/Purvi9399/FISH_CLASSIFIER/blob/master/FISHCLASSIFIER.ipynb\" target=\"_parent\"><img src=\"https://colab.research.google.com/assets/colab-badge.svg\" alt=\"Open In Colab\"/></a>"
      ]
    },
    {
      "cell_type": "code",
      "metadata": {
        "id": "ayj4a-6eH3pe",
        "colab_type": "code",
        "colab": {}
      },
      "source": [
        "import tensorflow as tf\n",
        "assert tf.__version__.startswith('2')\n",
        "from tensorflow import keras\n",
        "from  tensorflow.keras import layers\n",
        "import os\n",
        "import numpy as np\n",
        "import matplotlib.pyplot as plt\n",
        "\n",
        "from keras.preprocessing.image import ImageDataGenerator\n"
      ],
      "execution_count": null,
      "outputs": []
    },
    {
      "cell_type": "code",
      "metadata": {
        "id": "DjRUG8jNief8",
        "colab_type": "code",
        "colab": {
          "base_uri": "https://localhost:8080/",
          "height": 87
        },
        "outputId": "60d5e6f2-e06b-444a-b053-fca206ffcfd5"
      },
      "source": [
        "from google.colab import drive\n",
        "drive.mount(\"/content/gdrive\", force_remount=True)\n",
        "\n",
        "data_root  = '/content/gdrive/\"My Drive\"/Fish'\n",
        "!ls {data_root}"
      ],
      "execution_count": null,
      "outputs": [
        {
          "output_type": "stream",
          "text": [
            "Mounted at /content/gdrive\n",
            "Alaska_Pollock\tCommon_carp  Nile_tilapia\t    Silver_carp\n",
            "Bighead_carp\tcrabs\t     Sharks\t\t    Swordfish\n",
            "Butterfly_fish\tGold_fish    Siamese_fighting_fish  Tuna_fish\n"
          ],
          "name": "stdout"
        }
      ]
    },
    {
      "cell_type": "code",
      "metadata": {
        "id": "dnOHweFeD6CA",
        "colab_type": "code",
        "colab": {}
      },
      "source": [
        ""
      ],
      "execution_count": null,
      "outputs": []
    },
    {
      "cell_type": "code",
      "metadata": {
        "id": "qx7lNrjN2nys",
        "colab_type": "code",
        "colab": {}
      },
      "source": [
        "base_dir = '/content/gdrive/My Drive/Fish'"
      ],
      "execution_count": null,
      "outputs": []
    },
    {
      "cell_type": "code",
      "metadata": {
        "id": "7cYj7pBU2snz",
        "colab_type": "code",
        "colab": {
          "base_uri": "https://localhost:8080/",
          "height": 52
        },
        "outputId": "69b6159b-2ed7-4093-e0da-2c3894396028"
      },
      "source": [
        "IMAGE_SIZE = 224\n",
        "BATCH_SIZE = 64\n",
        "\n",
        "datagen = tf.keras.preprocessing.image.ImageDataGenerator(\n",
        "    rescale=1./255, \n",
        "    validation_split=0.2)\n",
        "\n",
        "train_generator = datagen.flow_from_directory(\n",
        "    base_dir,\n",
        "    target_size=(IMAGE_SIZE, IMAGE_SIZE),\n",
        "    batch_size=BATCH_SIZE, \n",
        "    subset='training')\n",
        "\n",
        "val_generator = datagen.flow_from_directory(\n",
        "    base_dir,\n",
        "    target_size=(IMAGE_SIZE, IMAGE_SIZE),\n",
        "    batch_size=BATCH_SIZE, \n",
        "    subset='validation')"
      ],
      "execution_count": null,
      "outputs": [
        {
          "output_type": "stream",
          "text": [
            "Found 1495 images belonging to 12 classes.\n",
            "Found 367 images belonging to 12 classes.\n"
          ],
          "name": "stdout"
        }
      ]
    },
    {
      "cell_type": "code",
      "metadata": {
        "id": "_b98e1gTSuc6",
        "colab_type": "code",
        "colab": {
          "base_uri": "https://localhost:8080/",
          "height": 89
        },
        "outputId": "49f20382-72c6-4bd9-ee6c-ab6cf3386065"
      },
      "source": [
        "for image_batch, label_batch in train_generator:\n",
        "  break\n",
        "image_batch.shape, label_batch.shape"
      ],
      "execution_count": null,
      "outputs": [
        {
          "output_type": "stream",
          "text": [
            "/usr/local/lib/python3.6/dist-packages/PIL/Image.py:932: UserWarning: Palette images with Transparency expressed in bytes should be converted to RGBA images\n",
            "  \"Palette images with Transparency expressed in bytes should be \"\n"
          ],
          "name": "stderr"
        },
        {
          "output_type": "execute_result",
          "data": {
            "text/plain": [
              "((64, 224, 224, 3), (64, 12))"
            ]
          },
          "metadata": {
            "tags": []
          },
          "execution_count": 22
        }
      ]
    },
    {
      "cell_type": "code",
      "metadata": {
        "id": "GqwC6j40TolN",
        "colab_type": "code",
        "colab": {
          "base_uri": "https://localhost:8080/",
          "height": 55
        },
        "outputId": "e5a2200a-dc59-4b2a-8d39-6db1042b4830"
      },
      "source": [
        "print (train_generator.class_indices)\n",
        "\n",
        "labels = '\\n'.join(sorted(train_generator.class_indices.keys()))\n",
        "\n",
        "with open('labels.txt', 'w') as f:\n",
        "  f.write(labels)"
      ],
      "execution_count": null,
      "outputs": [
        {
          "output_type": "stream",
          "text": [
            "{'Alaska_Pollock': 0, 'Bighead_carp': 1, 'Butterfly_fish': 2, 'Common_carp': 3, 'Gold_fish': 4, 'Nile_tilapia': 5, 'Sharks': 6, 'Siamese_fighting_fish': 7, 'Silver_carp': 8, 'Swordfish': 9, 'Tuna_fish': 10, 'crabs': 11}\n"
          ],
          "name": "stdout"
        }
      ]
    },
    {
      "cell_type": "code",
      "metadata": {
        "id": "bX2oRAvNToy5",
        "colab_type": "code",
        "colab": {}
      },
      "source": [
        "IMG_SHAPE = (IMAGE_SIZE, IMAGE_SIZE, 3)\n",
        "\n",
        "# Create the base model from the pre-trained model MobileNet V2\n",
        "base_model = tf.keras.applications.MobileNetV2(input_shape=IMG_SHAPE,\n",
        "                                              include_top=False, \n",
        "                                              weights='imagenet')"
      ],
      "execution_count": null,
      "outputs": []
    },
    {
      "cell_type": "code",
      "metadata": {
        "id": "_kmRfQRIUFKb",
        "colab_type": "code",
        "colab": {}
      },
      "source": [
        "base_model.trainable = False"
      ],
      "execution_count": null,
      "outputs": []
    },
    {
      "cell_type": "code",
      "metadata": {
        "id": "_UvVUodzUFcp",
        "colab_type": "code",
        "colab": {}
      },
      "source": [
        "model = tf.keras.Sequential([\n",
        "  base_model,\n",
        "  tf.keras.layers.Conv2D(32, 3, activation='relu'),\n",
        "  tf.keras.layers.Dropout(0.2),\n",
        "  tf.keras.layers.GlobalAveragePooling2D(),\n",
        "  tf.keras.layers.Dense(12, activation='softmax')\n",
        "])"
      ],
      "execution_count": null,
      "outputs": []
    },
    {
      "cell_type": "code",
      "metadata": {
        "id": "RCH7Om-YUcZ4",
        "colab_type": "code",
        "colab": {}
      },
      "source": [
        "model.compile(optimizer=tf.keras.optimizers.Adam(), \n",
        "              loss='categorical_crossentropy', \n",
        "              metrics=['accuracy'])"
      ],
      "execution_count": null,
      "outputs": []
    },
    {
      "cell_type": "code",
      "metadata": {
        "id": "ZL0ATK6RUcgg",
        "colab_type": "code",
        "colab": {
          "base_uri": "https://localhost:8080/",
          "height": 329
        },
        "outputId": "0df2674e-a93d-47cd-9a2c-8565c3668fed"
      },
      "source": [
        "model.summary()"
      ],
      "execution_count": null,
      "outputs": [
        {
          "output_type": "stream",
          "text": [
            "Model: \"sequential_1\"\n",
            "_________________________________________________________________\n",
            "Layer (type)                 Output Shape              Param #   \n",
            "=================================================================\n",
            "mobilenetv2_1.00_224 (Model) (None, 7, 7, 1280)        2257984   \n",
            "_________________________________________________________________\n",
            "conv2d_1 (Conv2D)            (None, 5, 5, 32)          368672    \n",
            "_________________________________________________________________\n",
            "dropout_1 (Dropout)          (None, 5, 5, 32)          0         \n",
            "_________________________________________________________________\n",
            "global_average_pooling2d_1 ( (None, 32)                0         \n",
            "_________________________________________________________________\n",
            "dense_1 (Dense)              (None, 12)                396       \n",
            "=================================================================\n",
            "Total params: 2,627,052\n",
            "Trainable params: 369,068\n",
            "Non-trainable params: 2,257,984\n",
            "_________________________________________________________________\n"
          ],
          "name": "stdout"
        }
      ]
    },
    {
      "cell_type": "code",
      "metadata": {
        "id": "HpGqwGZTVt_M",
        "colab_type": "code",
        "colab": {
          "base_uri": "https://localhost:8080/",
          "height": 35
        },
        "outputId": "4d0b7be5-cc57-47e5-9e03-a474c660163a"
      },
      "source": [
        "print('Number of trainable variables = {}'.format(len(model.trainable_variables)))"
      ],
      "execution_count": null,
      "outputs": [
        {
          "output_type": "stream",
          "text": [
            "Number of trainable variables = 4\n"
          ],
          "name": "stdout"
        }
      ]
    },
    {
      "cell_type": "code",
      "metadata": {
        "id": "CyNaqpOMVuKG",
        "colab_type": "code",
        "colab": {
          "base_uri": "https://localhost:8080/",
          "height": 453
        },
        "outputId": "eb0c03d6-88a2-4527-cb79-ab7a37e59158"
      },
      "source": [
        "epochs = 10\n",
        "\n",
        "history = model.fit(train_generator, \n",
        "                    steps_per_epoch=len(train_generator), \n",
        "                    epochs=epochs, \n",
        "                    validation_data=val_generator, \n",
        "                    validation_steps=len(val_generator))"
      ],
      "execution_count": null,
      "outputs": [
        {
          "output_type": "stream",
          "text": [
            "/usr/local/lib/python3.6/dist-packages/PIL/Image.py:932: UserWarning: Palette images with Transparency expressed in bytes should be converted to RGBA images\n",
            "  \"Palette images with Transparency expressed in bytes should be \"\n"
          ],
          "name": "stderr"
        },
        {
          "output_type": "stream",
          "text": [
            "Epoch 1/10\n",
            "16/24 [===================>..........] - ETA: 19s - loss: 2.2753 - accuracy: 0.2940"
          ],
          "name": "stdout"
        },
        {
          "output_type": "stream",
          "text": [
            "/usr/local/lib/python3.6/dist-packages/PIL/TiffImagePlugin.py:788: UserWarning: Corrupt EXIF data.  Expecting to read 4 bytes but only got 0. \n",
            "  warnings.warn(str(msg))\n"
          ],
          "name": "stderr"
        },
        {
          "output_type": "stream",
          "text": [
            "24/24 [==============================] - 84s 3s/step - loss: 2.0293 - accuracy: 0.3605 - val_loss: 1.2745 - val_accuracy: 0.5940\n",
            "Epoch 2/10\n",
            "24/24 [==============================] - 83s 3s/step - loss: 1.1755 - accuracy: 0.6341 - val_loss: 0.9289 - val_accuracy: 0.7193\n",
            "Epoch 3/10\n",
            "24/24 [==============================] - 83s 3s/step - loss: 0.8565 - accuracy: 0.7117 - val_loss: 0.8804 - val_accuracy: 0.7439\n",
            "Epoch 4/10\n",
            "24/24 [==============================] - 84s 4s/step - loss: 0.6595 - accuracy: 0.7706 - val_loss: 0.9465 - val_accuracy: 0.7275\n",
            "Epoch 5/10\n",
            "24/24 [==============================] - 84s 3s/step - loss: 0.5840 - accuracy: 0.7980 - val_loss: 0.8988 - val_accuracy: 0.7602\n",
            "Epoch 6/10\n",
            "24/24 [==============================] - 84s 4s/step - loss: 0.4932 - accuracy: 0.8281 - val_loss: 0.9888 - val_accuracy: 0.7602\n",
            "Epoch 7/10\n",
            "24/24 [==============================] - 90s 4s/step - loss: 0.4513 - accuracy: 0.8448 - val_loss: 0.9638 - val_accuracy: 0.7766\n",
            "Epoch 8/10\n",
            "24/24 [==============================] - 83s 3s/step - loss: 0.4056 - accuracy: 0.8582 - val_loss: 1.0192 - val_accuracy: 0.7602\n",
            "Epoch 9/10\n",
            "24/24 [==============================] - 83s 3s/step - loss: 0.3939 - accuracy: 0.8656 - val_loss: 1.1562 - val_accuracy: 0.7684\n",
            "Epoch 10/10\n",
            "24/24 [==============================] - 84s 3s/step - loss: 0.3808 - accuracy: 0.8682 - val_loss: 1.0736 - val_accuracy: 0.7766\n"
          ],
          "name": "stdout"
        }
      ]
    },
    {
      "cell_type": "code",
      "metadata": {
        "id": "TmQs8TzHVuae",
        "colab_type": "code",
        "colab": {
          "base_uri": "https://localhost:8080/",
          "height": 513
        },
        "outputId": "c2d31a47-7877-4d01-85cb-a533aefe92ac"
      },
      "source": [
        "acc = history.history['accuracy']\n",
        "val_acc = history.history['val_accuracy']\n",
        "\n",
        "loss = history.history['loss']\n",
        "val_loss = history.history['val_loss']\n",
        "\n",
        "plt.figure(figsize=(8, 8))\n",
        "plt.subplot(2, 1, 1)\n",
        "plt.plot(acc, label='Training Accuracy')\n",
        "plt.plot(val_acc, label='Validation Accuracy')\n",
        "plt.legend(loc='lower right')\n",
        "plt.ylabel('Accuracy')\n",
        "plt.ylim([min(plt.ylim()),1])\n",
        "plt.title('Training and Validation Accuracy')\n",
        "\n",
        "plt.subplot(2, 1, 2)\n",
        "plt.plot(loss, label='Training Loss')\n",
        "plt.plot(val_loss, label='Validation Loss')\n",
        "plt.legend(loc='upper right')\n",
        "plt.ylabel('Cross Entropy')\n",
        "plt.ylim([0,1.0])\n",
        "plt.title('Training and Validation Loss')\n",
        "plt.xlabel('epoch')\n",
        "plt.show()"
      ],
      "execution_count": null,
      "outputs": [
        {
          "output_type": "display_data",
          "data": {
            "image/png": "[encoded data removed]",
            "text/plain": [
              "<Figure size 576x576 with 2 Axes>"
            ]
          },
          "metadata": {
            "tags": [],
            "needs_background": "light"
          }
        }
      ]
    },
    {
      "cell_type": "code",
      "metadata": {
        "id": "K-aAQQnJlchv",
        "colab_type": "code",
        "colab": {}
      },
      "source": [
        "base_model.trainable = True"
      ],
      "execution_count": null,
      "outputs": []
    },
    {
      "cell_type": "code",
      "metadata": {
        "id": "nsyk01VJljOg",
        "colab_type": "code",
        "colab": {
          "base_uri": "https://localhost:8080/",
          "height": 35
        },
        "outputId": "73315982-c111-473b-df08-8f5bd03d493e"
      },
      "source": [
        "# Let's take a look to see how many layers are in the base model\n",
        "print(\"Number of layers in the base model: \", len(base_model.layers))\n",
        "\n",
        "# Fine tune from this layer onwards\n",
        "fine_tune_at = 100\n",
        "\n",
        "# Freeze all the layers before the `fine_tune_at` layer\n",
        "for layer in base_model.layers[:fine_tune_at]:\n",
        "  layer.trainable =  False"
      ],
      "execution_count": null,
      "outputs": [
        {
          "output_type": "stream",
          "text": [
            "Number of layers in the base model:  155\n"
          ],
          "name": "stdout"
        }
      ]
    },
    {
      "cell_type": "code",
      "metadata": {
        "id": "8bZVe2CSlomP",
        "colab_type": "code",
        "colab": {}
      },
      "source": [
        "model.compile(loss='categorical_crossentropy',\n",
        "              optimizer = tf.keras.optimizers.Adam(1e-5),\n",
        "              metrics=['accuracy'])"
      ],
      "execution_count": null,
      "outputs": []
    },
    {
      "cell_type": "code",
      "metadata": {
        "id": "tAXmlllZpzMI",
        "colab_type": "code",
        "colab": {
          "base_uri": "https://localhost:8080/",
          "height": 329
        },
        "outputId": "05408409-c0f3-4549-9ed2-29d13c151485"
      },
      "source": [
        "model.summary()"
      ],
      "execution_count": null,
      "outputs": [
        {
          "output_type": "stream",
          "text": [
            "Model: \"sequential_1\"\n",
            "_________________________________________________________________\n",
            "Layer (type)                 Output Shape              Param #   \n",
            "=================================================================\n",
            "mobilenetv2_1.00_224 (Model) (None, 7, 7, 1280)        2257984   \n",
            "_________________________________________________________________\n",
            "conv2d_1 (Conv2D)            (None, 5, 5, 32)          368672    \n",
            "_________________________________________________________________\n",
            "dropout_1 (Dropout)          (None, 5, 5, 32)          0         \n",
            "_________________________________________________________________\n",
            "global_average_pooling2d_1 ( (None, 32)                0         \n",
            "_________________________________________________________________\n",
            "dense_1 (Dense)              (None, 12)                396       \n",
            "=================================================================\n",
            "Total params: 2,627,052\n",
            "Trainable params: 2,231,660\n",
            "Non-trainable params: 395,392\n",
            "_________________________________________________________________\n"
          ],
          "name": "stdout"
        }
      ]
    },
    {
      "cell_type": "code",
      "metadata": {
        "id": "vzKYVYCDxSau",
        "colab_type": "code",
        "colab": {
          "base_uri": "https://localhost:8080/",
          "height": 35
        },
        "outputId": "c18ecd39-48e8-469a-94fd-51980ea3c569"
      },
      "source": [
        "print('Number of trainable variables = {}'.format(len(model.trainable_variables)))"
      ],
      "execution_count": null,
      "outputs": [
        {
          "output_type": "stream",
          "text": [
            "Number of trainable variables = 60\n"
          ],
          "name": "stdout"
        }
      ]
    },
    {
      "cell_type": "code",
      "metadata": {
        "id": "hLHw6tkIxYvz",
        "colab_type": "code",
        "colab": {
          "base_uri": "https://localhost:8080/",
          "height": 1000
        },
        "outputId": "bfd79497-523b-43af-c5fb-66081a134558"
      },
      "source": [
        "history_fine = model.fit(train_generator, \n",
        "                         steps_per_epoch=len(train_generator), \n",
        "                         epochs=50, \n",
        "                         validation_data=val_generator, \n",
        "                         validation_steps=len(val_generator))"
      ],
      "execution_count": null,
      "outputs": [
        {
          "output_type": "stream",
          "text": [
            "Epoch 1/50\n",
            " 1/24 [>.............................] - ETA: 0s - loss: 0.5712 - accuracy: 0.7969"
          ],
          "name": "stdout"
        },
        {
          "output_type": "stream",
          "text": [
            "/usr/local/lib/python3.6/dist-packages/PIL/Image.py:932: UserWarning: Palette images with Transparency expressed in bytes should be converted to RGBA images\n",
            "  \"Palette images with Transparency expressed in bytes should be \"\n"
          ],
          "name": "stderr"
        },
        {
          "output_type": "stream",
          "text": [
            " 6/24 [======>.......................] - ETA: 1:09 - loss: 0.7808 - accuracy: 0.7396"
          ],
          "name": "stdout"
        },
        {
          "output_type": "stream",
          "text": [
            "/usr/local/lib/python3.6/dist-packages/PIL/TiffImagePlugin.py:788: UserWarning: Corrupt EXIF data.  Expecting to read 4 bytes but only got 0. \n",
            "  warnings.warn(str(msg))\n"
          ],
          "name": "stderr"
        },
        {
          "output_type": "stream",
          "text": [
            "24/24 [==============================] - 122s 5s/step - loss: 0.6806 - accuracy: 0.7599 - val_loss: 1.0750 - val_accuracy: 0.7711\n",
            "Epoch 2/50\n",
            "24/24 [==============================] - 123s 5s/step - loss: 0.5619 - accuracy: 0.8100 - val_loss: 1.0966 - val_accuracy: 0.7711\n",
            "Epoch 3/50\n",
            "24/24 [==============================] - 120s 5s/step - loss: 0.5126 - accuracy: 0.8241 - val_loss: 1.0980 - val_accuracy: 0.7738\n",
            "Epoch 4/50\n",
            "24/24 [==============================] - 121s 5s/step - loss: 0.4839 - accuracy: 0.8334 - val_loss: 1.1052 - val_accuracy: 0.7766\n",
            "Epoch 5/50\n",
            "24/24 [==============================] - 123s 5s/step - loss: 0.4436 - accuracy: 0.8488 - val_loss: 1.1047 - val_accuracy: 0.7711\n",
            "Epoch 6/50\n",
            "24/24 [==============================] - 120s 5s/step - loss: 0.4248 - accuracy: 0.8582 - val_loss: 1.1081 - val_accuracy: 0.7766\n",
            "Epoch 7/50\n",
            "24/24 [==============================] - 122s 5s/step - loss: 0.4159 - accuracy: 0.8622 - val_loss: 1.1097 - val_accuracy: 0.7766\n",
            "Epoch 8/50\n",
            "24/24 [==============================] - 120s 5s/step - loss: 0.4129 - accuracy: 0.8609 - val_loss: 1.1116 - val_accuracy: 0.7738\n",
            "Epoch 9/50\n",
            "24/24 [==============================] - 119s 5s/step - loss: 0.3998 - accuracy: 0.8662 - val_loss: 1.1114 - val_accuracy: 0.7766\n",
            "Epoch 10/50\n",
            "24/24 [==============================] - 119s 5s/step - loss: 0.3914 - accuracy: 0.8615 - val_loss: 1.1016 - val_accuracy: 0.7766\n",
            "Epoch 11/50\n",
            "24/24 [==============================] - 118s 5s/step - loss: 0.3794 - accuracy: 0.8696 - val_loss: 1.0980 - val_accuracy: 0.7820\n",
            "Epoch 12/50\n",
            "24/24 [==============================] - 122s 5s/step - loss: 0.3729 - accuracy: 0.8722 - val_loss: 1.1027 - val_accuracy: 0.7902\n",
            "Epoch 13/50\n",
            "24/24 [==============================] - 119s 5s/step - loss: 0.3762 - accuracy: 0.8689 - val_loss: 1.1036 - val_accuracy: 0.7875\n",
            "Epoch 14/50\n",
            "24/24 [==============================] - 119s 5s/step - loss: 0.3688 - accuracy: 0.8729 - val_loss: 1.1004 - val_accuracy: 0.7875\n",
            "Epoch 15/50\n",
            "24/24 [==============================] - 119s 5s/step - loss: 0.3603 - accuracy: 0.8769 - val_loss: 1.1025 - val_accuracy: 0.7902\n",
            "Epoch 16/50\n",
            "24/24 [==============================] - 119s 5s/step - loss: 0.3623 - accuracy: 0.8729 - val_loss: 1.1030 - val_accuracy: 0.7902\n",
            "Epoch 17/50\n",
            "24/24 [==============================] - 122s 5s/step - loss: 0.3592 - accuracy: 0.8749 - val_loss: 1.0939 - val_accuracy: 0.7902\n",
            "Epoch 18/50\n",
            "24/24 [==============================] - 119s 5s/step - loss: 0.3594 - accuracy: 0.8783 - val_loss: 1.0901 - val_accuracy: 0.7847\n",
            "Epoch 19/50\n",
            "24/24 [==============================] - 119s 5s/step - loss: 0.3549 - accuracy: 0.8763 - val_loss: 1.0888 - val_accuracy: 0.7875\n",
            "Epoch 20/50\n",
            "24/24 [==============================] - 120s 5s/step - loss: 0.3581 - accuracy: 0.8696 - val_loss: 1.0864 - val_accuracy: 0.7929\n",
            "Epoch 21/50\n",
            "24/24 [==============================] - 119s 5s/step - loss: 0.3566 - accuracy: 0.8742 - val_loss: 1.0917 - val_accuracy: 0.7929\n",
            "Epoch 22/50\n",
            "24/24 [==============================] - 122s 5s/step - loss: 0.3521 - accuracy: 0.8736 - val_loss: 1.0984 - val_accuracy: 0.7956\n",
            "Epoch 23/50\n",
            "24/24 [==============================] - 118s 5s/step - loss: 0.3463 - accuracy: 0.8803 - val_loss: 1.1080 - val_accuracy: 0.7956\n",
            "Epoch 24/50\n",
            "24/24 [==============================] - 119s 5s/step - loss: 0.3485 - accuracy: 0.8763 - val_loss: 1.1071 - val_accuracy: 0.7984\n",
            "Epoch 25/50\n",
            "24/24 [==============================] - 119s 5s/step - loss: 0.3496 - accuracy: 0.8769 - val_loss: 1.1089 - val_accuracy: 0.7984\n",
            "Epoch 26/50\n",
            "24/24 [==============================] - 119s 5s/step - loss: 0.3462 - accuracy: 0.8722 - val_loss: 1.1155 - val_accuracy: 0.7984\n",
            "Epoch 27/50\n",
            "24/24 [==============================] - 121s 5s/step - loss: 0.3425 - accuracy: 0.8756 - val_loss: 1.1178 - val_accuracy: 0.8011\n",
            "Epoch 28/50\n",
            "24/24 [==============================] - 120s 5s/step - loss: 0.3451 - accuracy: 0.8769 - val_loss: 1.1256 - val_accuracy: 0.8011\n",
            "Epoch 29/50\n",
            "24/24 [==============================] - 119s 5s/step - loss: 0.3432 - accuracy: 0.8763 - val_loss: 1.1312 - val_accuracy: 0.8011\n",
            "Epoch 30/50\n",
            "24/24 [==============================] - 120s 5s/step - loss: 0.3425 - accuracy: 0.8769 - val_loss: 1.1329 - val_accuracy: 0.8038\n",
            "Epoch 31/50\n",
            "24/24 [==============================] - 122s 5s/step - loss: 0.3388 - accuracy: 0.8796 - val_loss: 1.1343 - val_accuracy: 0.7984\n",
            "Epoch 32/50\n",
            "24/24 [==============================] - 119s 5s/step - loss: 0.3430 - accuracy: 0.8749 - val_loss: 1.1358 - val_accuracy: 0.7956\n",
            "Epoch 33/50\n",
            "24/24 [==============================] - 119s 5s/step - loss: 0.3376 - accuracy: 0.8789 - val_loss: 1.1384 - val_accuracy: 0.7956\n",
            "Epoch 34/50\n",
            "24/24 [==============================] - 120s 5s/step - loss: 0.3421 - accuracy: 0.8769 - val_loss: 1.1418 - val_accuracy: 0.7929\n",
            "Epoch 35/50\n",
            "24/24 [==============================] - 119s 5s/step - loss: 0.3378 - accuracy: 0.8776 - val_loss: 1.1425 - val_accuracy: 0.7984\n",
            "Epoch 36/50\n",
            "24/24 [==============================] - 122s 5s/step - loss: 0.3384 - accuracy: 0.8803 - val_loss: 1.1463 - val_accuracy: 0.7956\n",
            "Epoch 37/50\n",
            "24/24 [==============================] - 119s 5s/step - loss: 0.3417 - accuracy: 0.8736 - val_loss: 1.1481 - val_accuracy: 0.7956\n",
            "Epoch 38/50\n",
            "24/24 [==============================] - 119s 5s/step - loss: 0.3401 - accuracy: 0.8736 - val_loss: 1.1519 - val_accuracy: 0.7929\n",
            "Epoch 39/50\n",
            "24/24 [==============================] - 119s 5s/step - loss: 0.3392 - accuracy: 0.8769 - val_loss: 1.1535 - val_accuracy: 0.7902\n",
            "Epoch 40/50\n",
            "24/24 [==============================] - 118s 5s/step - loss: 0.3358 - accuracy: 0.8763 - val_loss: 1.1588 - val_accuracy: 0.7929\n",
            "Epoch 41/50\n",
            "24/24 [==============================] - 122s 5s/step - loss: 0.3365 - accuracy: 0.8789 - val_loss: 1.1646 - val_accuracy: 0.7875\n",
            "Epoch 42/50\n",
            "24/24 [==============================] - 120s 5s/step - loss: 0.3383 - accuracy: 0.8722 - val_loss: 1.1664 - val_accuracy: 0.7929\n",
            "Epoch 43/50\n",
            "24/24 [==============================] - 119s 5s/step - loss: 0.3380 - accuracy: 0.8749 - val_loss: 1.1692 - val_accuracy: 0.7875\n",
            "Epoch 44/50\n",
            "24/24 [==============================] - 119s 5s/step - loss: 0.3434 - accuracy: 0.8722 - val_loss: 1.1761 - val_accuracy: 0.7902\n",
            "Epoch 45/50\n",
            "24/24 [==============================] - 119s 5s/step - loss: 0.3394 - accuracy: 0.8756 - val_loss: 1.1820 - val_accuracy: 0.7902\n",
            "Epoch 46/50\n",
            "24/24 [==============================] - 121s 5s/step - loss: 0.3334 - accuracy: 0.8763 - val_loss: 1.1865 - val_accuracy: 0.7902\n",
            "Epoch 47/50\n",
            "24/24 [==============================] - 118s 5s/step - loss: 0.3336 - accuracy: 0.8763 - val_loss: 1.1883 - val_accuracy: 0.7929\n",
            "Epoch 48/50\n",
            "24/24 [==============================] - 119s 5s/step - loss: 0.3344 - accuracy: 0.8769 - val_loss: 1.1908 - val_accuracy: 0.7902\n",
            "Epoch 49/50\n",
            "24/24 [==============================] - 120s 5s/step - loss: 0.3322 - accuracy: 0.8783 - val_loss: 1.1973 - val_accuracy: 0.7902\n",
            "Epoch 50/50\n",
            "24/24 [==============================] - 118s 5s/step - loss: 0.3376 - accuracy: 0.8776 - val_loss: 1.2029 - val_accuracy: 0.7902\n"
          ],
          "name": "stdout"
        }
      ]
    },
    {
      "cell_type": "code",
      "metadata": {
        "id": "tS_QGVX-P0bo",
        "colab_type": "code",
        "colab": {
          "base_uri": "https://localhost:8080/",
          "height": 513
        },
        "outputId": "e292f559-6541-4f4f-cbe0-c97bd8a588e3"
      },
      "source": [
        "acc = history_fine.history['accuracy']\n",
        "val_acc = history_fine.history['val_accuracy']\n",
        "\n",
        "loss = history_fine.history['loss']\n",
        "val_loss = history_fine.history['val_loss']\n",
        "\n",
        "plt.figure(figsize=(8, 8))\n",
        "plt.subplot(2, 1, 1)\n",
        "plt.plot(acc, label='Training Accuracy')\n",
        "plt.plot(val_acc, label='Validation Accuracy')\n",
        "plt.legend(loc='lower right')\n",
        "plt.ylabel('Accuracy')\n",
        "plt.ylim([min(plt.ylim()),1])\n",
        "plt.title('Training and Validation Accuracy')\n",
        "\n",
        "plt.subplot(2, 1, 2)\n",
        "plt.plot(loss, label='Training Loss')\n",
        "plt.plot(val_loss, label='Validation Loss')\n",
        "plt.legend(loc='upper right')\n",
        "plt.ylabel('Cross Entropy')\n",
        "plt.ylim([0,1.0])\n",
        "plt.title('Training and Validation Loss')\n",
        "plt.xlabel('epoch')\n",
        "plt.show()"
      ],
      "execution_count": null,
      "outputs": [
        {
          "output_type": "display_data",
          "data": {
            "image/png": "[encoded data removed]",
            "text/plain": [
              "<Figure size 576x576 with 2 Axes>"
            ]
          },
          "metadata": {
            "tags": [],
            "needs_background": "light"
          }
        }
      ]
    },
    {
      "cell_type": "code",
      "metadata": {
        "id": "YkgJe97Axdux",
        "colab_type": "code",
        "colab": {
          "base_uri": "https://localhost:8080/",
          "height": 52
        },
        "outputId": "716c7d96-b003-4090-800b-beadc8a78b10"
      },
      "source": [
        "saved_model_dir = 'save/fine_tuning'\n",
        "tf.saved_model.save(model, saved_model_dir)\n",
        "\n",
        "converter = tf.lite.TFLiteConverter.from_saved_model(saved_model_dir)\n",
        "tflite_model = converter.convert()\n",
        "\n",
        "with open('model.tflite', 'wb') as f:\n",
        "  f.write(tflite_model)"
      ],
      "execution_count": null,
      "outputs": [
        {
          "output_type": "stream",
          "text": [
            "INFO:tensorflow:Assets written to: save/fine_tuning/assets\n"
          ],
          "name": "stdout"
        },
        {
          "output_type": "stream",
          "text": [
            "INFO:tensorflow:Assets written to: save/fine_tuning/assets\n"
          ],
          "name": "stderr"
        }
      ]
    },
    {
      "cell_type": "code",
      "metadata": {
        "id": "1_Sbflei5K7m",
        "colab_type": "code",
        "colab": {
          "base_uri": "https://localhost:8080/",
          "height": 17
        },
        "outputId": "06b0a988-f80e-44b0-eebb-113747e86b3d"
      },
      "source": [
        "from google.colab import files\n",
        "\n",
        "files.download('model.tflite')\n",
        "files.download('labels.txt')"
      ],
      "execution_count": null,
      "outputs": [
        {
          "output_type": "display_data",
          "data": {
            "application/javascript": [
              "\n",
              "    async function download(id, filename, size) {\n",
              "      if (!google.colab.kernel.accessAllowed) {\n",
              "        return;\n",
              "      }\n",
              "      const div = document.createElement('div');\n",
              "      const label = document.createElement('label');\n",
              "      label.textContent = `Downloading \"${filename}\": `;\n",
              "      div.appendChild(label);\n",
              "      const progress = document.createElement('progress');\n",
              "      progress.max = size;\n",
              "      div.appendChild(progress);\n",
              "      document.body.appendChild(div);\n",
              "\n",
              "      const buffers = [];\n",
              "      let downloaded = 0;\n",
              "\n",
              "      const channel = await google.colab.kernel.comms.open(id);\n",
              "      // Send a message to notify the kernel that we're ready.\n",
              "      channel.send({})\n",
              "\n",
              "      for await (const message of channel.messages) {\n",
              "        // Send a message to notify the kernel that we're ready.\n",
              "        channel.send({})\n",
              "        if (message.buffers) {\n",
              "          for (const buffer of message.buffers) {\n",
              "            buffers.push(buffer);\n",
              "            downloaded += buffer.byteLength;\n",
              "            progress.value = downloaded;\n",
              "          }\n",
              "        }\n",
              "      }\n",
              "      const blob = new Blob(buffers, {type: 'application/binary'});\n",
              "      const a = document.createElement('a');\n",
              "      a.href = window.URL.createObjectURL(blob);\n",
              "      a.download = filename;\n",
              "      div.appendChild(a);\n",
              "      a.click();\n",
              "      div.remove();\n",
              "    }\n",
              "  "
            ],
            "text/plain": [
              "<IPython.core.display.Javascript object>"
            ]
          },
          "metadata": {
            "tags": []
          }
        },
        {
          "output_type": "display_data",
          "data": {
            "application/javascript": [
              "download(\"download_f1726b46-fd2d-48fc-99b0-ff5436f1010d\", \"model.tflite\", 10325452)"
            ],
            "text/plain": [
              "<IPython.core.display.Javascript object>"
            ]
          },
          "metadata": {
            "tags": []
          }
        },
        {
          "output_type": "display_data",
          "data": {
            "application/javascript": [
              "\n",
              "    async function download(id, filename, size) {\n",
              "      if (!google.colab.kernel.accessAllowed) {\n",
              "        return;\n",
              "      }\n",
              "      const div = document.createElement('div');\n",
              "      const label = document.createElement('label');\n",
              "      label.textContent = `Downloading \"${filename}\": `;\n",
              "      div.appendChild(label);\n",
              "      const progress = document.createElement('progress');\n",
              "      progress.max = size;\n",
              "      div.appendChild(progress);\n",
              "      document.body.appendChild(div);\n",
              "\n",
              "      const buffers = [];\n",
              "      let downloaded = 0;\n",
              "\n",
              "      const channel = await google.colab.kernel.comms.open(id);\n",
              "      // Send a message to notify the kernel that we're ready.\n",
              "      channel.send({})\n",
              "\n",
              "      for await (const message of channel.messages) {\n",
              "        // Send a message to notify the kernel that we're ready.\n",
              "        channel.send({})\n",
              "        if (message.buffers) {\n",
              "          for (const buffer of message.buffers) {\n",
              "            buffers.push(buffer);\n",
              "            downloaded += buffer.byteLength;\n",
              "            progress.value = downloaded;\n",
              "          }\n",
              "        }\n",
              "      }\n",
              "      const blob = new Blob(buffers, {type: 'application/binary'});\n",
              "      const a = document.createElement('a');\n",
              "      a.href = window.URL.createObjectURL(blob);\n",
              "      a.download = filename;\n",
              "      div.appendChild(a);\n",
              "      a.click();\n",
              "      div.remove();\n",
              "    }\n",
              "  "
            ],
            "text/plain": [
              "<IPython.core.display.Javascript object>"
            ]
          },
          "metadata": {
            "tags": []
          }
        },
        {
          "output_type": "display_data",
          "data": {
            "application/javascript": [
              "download(\"download_4dbed658-ac2d-4c33-86b8-5dabc83df920\", \"labels.txt\", 144)"
            ],
            "text/plain": [
              "<IPython.core.display.Javascript object>"
            ]
          },
          "metadata": {
            "tags": []
          }
        }
      ]
    },
    {
      "cell_type": "code",
      "metadata": {
        "id": "4Zq2Q_wPDH_y",
        "colab_type": "code",
        "colab": {}
      },
      "source": [
        ""
      ],
      "execution_count": null,
      "outputs": []
    },
    {
      "cell_type": "code",
      "metadata": {
        "id": "oyAFMwuxzdxS",
        "colab_type": "code",
        "colab": {}
      },
      "source": [
        ""
      ],
      "execution_count": null,
      "outputs": []
    }
  ]
}